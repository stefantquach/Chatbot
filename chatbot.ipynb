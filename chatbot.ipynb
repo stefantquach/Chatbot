{
 "cells": [
  {
   "cell_type": "code",
   "execution_count": 1,
   "metadata": {},
   "outputs": [],
   "source": [
    "import numpy as np\n",
    "import tensorflow as tf\n",
    "import pickle\n",
    "from tensorflow.keras import layers , activations , models\n",
    "import requests, zipfile, io\n",
    "from tensorflow.keras import preprocessing , utils\n",
    "import os\n",
    "import yaml\n",
    "import string\n",
    "import re"
   ]
  },
  {
   "cell_type": "code",
   "execution_count": null,
   "metadata": {},
   "outputs": [],
   "source": [
    "r = requests.get( 'https://github.com/shubham0204/Dataset_Archives/blob/master/chatbot_nlp.zip?raw=true' ) \n",
    "z = zipfile.ZipFile(io.BytesIO(r.content))\n",
    "z.extractall()"
   ]
  },
  {
   "cell_type": "code",
   "execution_count": 32,
   "metadata": {},
   "outputs": [
    {
     "name": "stdout",
     "output_type": "stream",
     "text": [
      "oops\n"
     ]
    }
   ],
   "source": [
    "dir_path = 'chatbot_nlp/data'\n",
    "# files_list = os.listdir(dir_path + os.sep)\n",
    "a = [\"hi\", \"oops\"]\n",
    "\n",
    "for i in a[1:]:\n",
    "    print(i)"
   ]
  },
  {
   "cell_type": "code",
   "execution_count": 2,
   "metadata": {},
   "outputs": [
    {
     "name": "stdout",
     "output_type": "stream",
     "text": [
      "f\n",
      "f\n",
      "VOCAB SIZE : 1894\n"
     ]
    }
   ],
   "source": [
    "dir_path = 'chatbot_nlp/data'\n",
    "files_list = os.listdir(dir_path + os.sep)\n",
    "\n",
    "questions = list()\n",
    "answers = list()\n",
    "\n",
    "for filepath in files_list:\n",
    "    stream = open( dir_path + os.sep + filepath , 'rb')\n",
    "    docs = yaml.safe_load(stream)\n",
    "    conversations = docs['conversations']\n",
    "    for con in conversations:\n",
    "        if len( con ) > 2 :\n",
    "            questions.append(con[0])\n",
    "            replies = con[ 1 : ]\n",
    "            ans = ''\n",
    "            for rep in replies:\n",
    "                ans += ' ' + rep\n",
    "            answers.append( ans )\n",
    "        elif len( con )> 1:\n",
    "            questions.append(con[0])\n",
    "            answers.append(con[1])\n",
    "# print(questions)\n",
    "# print(answers)\n",
    "answers_with_tags = list()\n",
    "for i in range( len( answers ) ):\n",
    "    if type( answers[i] ) == str:\n",
    "        answers_with_tags.append( answers[i] )\n",
    "    else:\n",
    "        print('f')\n",
    "        questions.pop( i )\n",
    "\n",
    "answers = list()\n",
    "for i in range( len( answers_with_tags ) ) :\n",
    "    answers.append( '<START> ' + answers_with_tags[i] + ' <END>' )\n",
    "\n",
    "tokenizer = preprocessing.text.Tokenizer()\n",
    "tokenizer.fit_on_texts( questions + answers )\n",
    "VOCAB_SIZE = len( tokenizer.word_index )+1\n",
    "print( 'VOCAB SIZE : {}'.format( VOCAB_SIZE ))\n"
   ]
  },
  {
   "cell_type": "code",
   "execution_count": 3,
   "metadata": {},
   "outputs": [
    {
     "name": "stdout",
     "output_type": "stream",
     "text": [
      "(564, 22) 22\n",
      "(564, 74) 74\n",
      "(564, 74, 1894)\n"
     ]
    }
   ],
   "source": [
    "# encoder_input_data\n",
    "tokenized_questions = tokenizer.texts_to_sequences( questions )\n",
    "maxlen_questions = max( [ len(x) for x in tokenized_questions ] )\n",
    "padded_questions = preprocessing.sequence.pad_sequences( tokenized_questions , maxlen=maxlen_questions , padding='post' )\n",
    "encoder_input_data = np.array( padded_questions )\n",
    "print( encoder_input_data.shape , maxlen_questions )\n",
    "\n",
    "# decoder_input_data\n",
    "tokenized_answers = tokenizer.texts_to_sequences( answers )\n",
    "maxlen_answers = max( [ len(x) for x in tokenized_answers ] )\n",
    "padded_answers = preprocessing.sequence.pad_sequences( tokenized_answers , maxlen=maxlen_answers , padding='post' )\n",
    "decoder_input_data = np.array( padded_answers )\n",
    "print( decoder_input_data.shape , maxlen_answers )\n",
    "\n",
    "# decoder_output_data\n",
    "tokenized_answers = tokenizer.texts_to_sequences( answers )\n",
    "for i in range(len(tokenized_answers)) :\n",
    "    tokenized_answers[i] = tokenized_answers[i][1:]\n",
    "padded_answers = preprocessing.sequence.pad_sequences( tokenized_answers , maxlen=maxlen_answers , padding='post' )\n",
    "onehot_answers = utils.to_categorical( padded_answers , VOCAB_SIZE )\n",
    "decoder_output_data = np.array( onehot_answers )\n",
    "print( decoder_output_data.shape )\n",
    "\n",
    "# Saving all the arrays to storage\n",
    "np.save( './data/enc_in_data.npy' , encoder_input_data )\n",
    "np.save( './data/dec_in_data.npy' , decoder_input_data )\n",
    "np.save( './data/dec_tar_data.npy' , decoder_output_data )"
   ]
  },
  {
   "cell_type": "code",
   "execution_count": null,
   "metadata": {},
   "outputs": [],
   "source": []
  },
  {
   "cell_type": "code",
   "execution_count": 4,
   "metadata": {},
   "outputs": [
    {
     "name": "stdout",
     "output_type": "stream",
     "text": [
      "Model: \"model\"\n",
      "__________________________________________________________________________________________________\n",
      "Layer (type)                    Output Shape         Param #     Connected to                     \n",
      "==================================================================================================\n",
      "input_1 (InputLayer)            [(None, None)]       0                                            \n",
      "__________________________________________________________________________________________________\n",
      "input_2 (InputLayer)            [(None, None)]       0                                            \n",
      "__________________________________________________________________________________________________\n",
      "embedding (Embedding)           (None, None, 200)    378800      input_1[0][0]                    \n",
      "__________________________________________________________________________________________________\n",
      "embedding_1 (Embedding)         (None, None, 200)    378800      input_2[0][0]                    \n",
      "__________________________________________________________________________________________________\n",
      "lstm (LSTM)                     [(None, 200), (None, 320800      embedding[0][0]                  \n",
      "__________________________________________________________________________________________________\n",
      "lstm_1 (LSTM)                   [(None, None, 200),  320800      embedding_1[0][0]                \n",
      "                                                                 lstm[0][1]                       \n",
      "                                                                 lstm[0][2]                       \n",
      "__________________________________________________________________________________________________\n",
      "dense (Dense)                   (None, None, 1894)   380694      lstm_1[0][0]                     \n",
      "==================================================================================================\n",
      "Total params: 1,779,894\n",
      "Trainable params: 1,779,894\n",
      "Non-trainable params: 0\n",
      "__________________________________________________________________________________________________\n"
     ]
    }
   ],
   "source": [
    "# Training Model\n",
    "\n",
    "encoder_inputs = tf.keras.layers.Input(shape=( None , ))\n",
    "encoder_embedding = tf.keras.layers.Embedding( VOCAB_SIZE, 200 , mask_zero=True ) (encoder_inputs)\n",
    "encoder_outputs , state_h1 , state_c1 = tf.keras.layers.LSTM( 200 , return_state=True )( encoder_embedding )\n",
    "# encoder_outputs , state_h2 , state_c2 = tf.keras.layers.LSTM( 200 , return_state=True )( encoder_outputs1 )\n",
    "# encoder_states = [ state_h1 , state_c1 , state_h2 , state_c2 ]\n",
    "encoder_states = [ state_h1 , state_c1]\n",
    "\n",
    "decoder_inputs = tf.keras.layers.Input(shape=( None ,  ))\n",
    "decoder_embedding = tf.keras.layers.Embedding( VOCAB_SIZE, 200 , mask_zero=True) (decoder_inputs)\n",
    "decoder_lstm1 = tf.keras.layers.LSTM( 200 , return_state=True , return_sequences=True )\n",
    "# decoder_lstm2 = tf.keras.layers.LSTM( 200 , return_state=True , return_sequences=True )\n",
    "decoder_outputs , _ , _ = decoder_lstm1 ( decoder_embedding , initial_state=encoder_states[0:2] )\n",
    "# decoder_outputs , _ , _ = decoder_lstm2 ( decoder_outputs , initial_state=encoder_states[2:4] )\n",
    "decoder_dense = tf.keras.layers.Dense( VOCAB_SIZE , activation=tf.keras.activations.softmax ) \n",
    "output = decoder_dense ( decoder_outputs )\n",
    "\n",
    "model = tf.keras.models.Model([encoder_inputs, decoder_inputs], output )\n",
    "model.compile(optimizer=tf.keras.optimizers.RMSprop(), loss='categorical_crossentropy')\n",
    "\n",
    "model.summary()"
   ]
  },
  {
   "cell_type": "code",
   "execution_count": null,
   "metadata": {},
   "outputs": [],
   "source": [
    "embedding_matrix = np.load('./data/embedding_matrix.npy')\n",
    "\n",
    "embedding = layers.Embedding(vocab_size, 200, weights=[embedding_matrix], trainable=False)\n",
    "\n",
    "encoder_input = layers.Input(shape=(None, ))\n",
    "encoder_lstm = layers.LSTM(200, return_state=True)\n",
    "_ , state_h1, state_c1 = encoder_lstm(embedding(encoder_input))\n",
    "\n",
    "decoder_input = layers.Input(shape=(None, ))\n",
    "decoder_lstm = layers.LSTM(200, return_state=True, return_sequences=True)\n",
    "\n",
    "decoder_output, _, _ = decoder_lstm(embedding(decoder_input), initial_state=[state_h1, state_c1])\n",
    "decoder_dense = layers.Dense(vocab_size, activation='softmax')\n",
    "output = decoder_dense(decoder_output)"
   ]
  },
  {
   "cell_type": "code",
   "execution_count": 12,
   "metadata": {},
   "outputs": [
    {
     "name": "stdout",
     "output_type": "stream",
     "text": [
      "Train on 564 samples\n",
      "Epoch 1/25\n",
      "564/564 [==============================] - 1s 1ms/sample - loss: 0.3131\n",
      "Epoch 2/25\n",
      "564/564 [==============================] - 1s 978us/sample - loss: 0.3056\n",
      "Epoch 3/25\n",
      "564/564 [==============================] - 1s 967us/sample - loss: 0.2984\n",
      "Epoch 4/25\n",
      "564/564 [==============================] - 1s 970us/sample - loss: 0.2934\n",
      "Epoch 5/25\n",
      "564/564 [==============================] - 1s 956us/sample - loss: 0.2867\n",
      "Epoch 6/25\n",
      "564/564 [==============================] - 1s 1ms/sample - loss: 0.2797\n",
      "Epoch 7/25\n",
      "564/564 [==============================] - 1s 953us/sample - loss: 0.2738\n",
      "Epoch 8/25\n",
      "564/564 [==============================] - 1s 950us/sample - loss: 0.2669\n",
      "Epoch 9/25\n",
      "564/564 [==============================] - 1s 964us/sample - loss: 0.2595\n",
      "Epoch 10/25\n",
      "564/564 [==============================] - 1s 960us/sample - loss: 0.2565\n",
      "Epoch 11/25\n",
      "564/564 [==============================] - 1s 958us/sample - loss: 0.2494\n",
      "Epoch 12/25\n",
      "564/564 [==============================] - 1s 969us/sample - loss: 0.2431\n",
      "Epoch 13/25\n",
      "564/564 [==============================] - 1s 959us/sample - loss: 0.2371\n",
      "Epoch 14/25\n",
      "564/564 [==============================] - 1s 969us/sample - loss: 0.2326\n",
      "Epoch 15/25\n",
      "564/564 [==============================] - 1s 968us/sample - loss: 0.2256\n",
      "Epoch 16/25\n",
      "564/564 [==============================] - 1s 966us/sample - loss: 0.2193\n",
      "Epoch 17/25\n",
      "564/564 [==============================] - 1s 964us/sample - loss: 0.2159\n",
      "Epoch 18/25\n",
      "564/564 [==============================] - 1s 966us/sample - loss: 0.2098\n",
      "Epoch 19/25\n",
      "564/564 [==============================] - 1s 1ms/sample - loss: 0.2046\n",
      "Epoch 20/25\n",
      "564/564 [==============================] - 1s 971us/sample - loss: 0.1990\n",
      "Epoch 21/25\n",
      "564/564 [==============================] - 1s 965us/sample - loss: 0.1949\n",
      "Epoch 22/25\n",
      "564/564 [==============================] - 1s 1ms/sample - loss: 0.1899\n",
      "Epoch 23/25\n",
      "564/564 [==============================] - 1s 1ms/sample - loss: 0.1851\n",
      "Epoch 24/25\n",
      "564/564 [==============================] - 1s 955us/sample - loss: 0.1805\n",
      "Epoch 25/25\n",
      "564/564 [==============================] - 1s 959us/sample - loss: 0.1746\n"
     ]
    }
   ],
   "source": [
    "model.fit([encoder_input_data , decoder_input_data], decoder_output_data, batch_size=50, epochs=25 ) \n",
    "model.save( 'model.h5' ) "
   ]
  },
  {
   "cell_type": "code",
   "execution_count": 9,
   "metadata": {},
   "outputs": [],
   "source": [
    "def make_inference_models():\n",
    "    \n",
    "    encoder_model = tf.keras.models.Model(encoder_inputs, encoder_states)\n",
    "    \n",
    "    decoder_state_input_h = tf.keras.layers.Input(shape=( 200 ,))\n",
    "    decoder_state_input_c = tf.keras.layers.Input(shape=( 200 ,))\n",
    "    \n",
    "    decoder_states_inputs = [decoder_state_input_h, decoder_state_input_c]\n",
    "    \n",
    "    decoder_outputs, state_h, state_c = decoder_lstm1(\n",
    "        decoder_embedding , initial_state=decoder_states_inputs)\n",
    "    decoder_states = [state_h, state_c]\n",
    "    decoder_outputs = decoder_dense(decoder_outputs)\n",
    "    decoder_model = tf.keras.models.Model(\n",
    "        [decoder_inputs] + decoder_states_inputs,\n",
    "        [decoder_outputs] + decoder_states)\n",
    "    \n",
    "    return encoder_model , decoder_model"
   ]
  },
  {
   "cell_type": "code",
   "execution_count": 10,
   "metadata": {},
   "outputs": [],
   "source": [
    "def str_to_tokens( sentence : str ):\n",
    "    translator = str.maketrans('', '', string.punctuation)\n",
    "    words = sentence.lower().translate(translator).split()\n",
    "    \n",
    "    tokens_list = list()\n",
    "    for word in words:\n",
    "        try:\n",
    "            a = tokenizer.word_index[ word ]\n",
    "        except KeyError:\n",
    "            a = 2\n",
    "        tokens_list.append( a ) \n",
    "    return preprocessing.sequence.pad_sequences( [tokens_list] , maxlen=maxlen_questions , padding='post')"
   ]
  },
  {
   "cell_type": "code",
   "execution_count": 13,
   "metadata": {},
   "outputs": [
    {
     "name": "stdin",
     "output_type": "stream",
     "text": [
      "Enter question :  hello\n"
     ]
    },
    {
     "name": "stdout",
     "output_type": "stream",
     "text": [
      " hi end\n"
     ]
    },
    {
     "name": "stdin",
     "output_type": "stream",
     "text": [
      "Enter question :  how are you\n"
     ]
    },
    {
     "name": "stdout",
     "output_type": "stream",
     "text": [
      " i am not to be for your own chat end\n"
     ]
    },
    {
     "name": "stdin",
     "output_type": "stream",
     "text": [
      "Enter question :  why is that\n"
     ]
    },
    {
     "name": "stdout",
     "output_type": "stream",
     "text": [
      " the game with tall players end\n"
     ]
    },
    {
     "name": "stdin",
     "output_type": "stream",
     "text": [
      "Enter question :  what is ai\n"
     ]
    },
    {
     "name": "stdout",
     "output_type": "stream",
     "text": [
      " artificial intelligence is the branch of engineering and science devoted to constructing machines that think end\n"
     ]
    },
    {
     "name": "stdin",
     "output_type": "stream",
     "text": [
      "Enter question :  what are you\n"
     ]
    },
    {
     "name": "stdout",
     "output_type": "stream",
     "text": [
      " i am a lot of my ability to communicate i am not yet studied how to feel or express anger why do you ask i have not yet capable of feeling jealousy but i can learn to express anger toward the topic i don't think if i don't think i am not yet capable of feeling jealousy but i don't think if i don't think if i have a mood but i am not yet\n"
     ]
    },
    {
     "name": "stdin",
     "output_type": "stream",
     "text": [
      "Enter question :  what is ai? what are you\n"
     ]
    },
    {
     "name": "stdout",
     "output_type": "stream",
     "text": [
      " the stockholders end\n"
     ]
    },
    {
     "name": "stdin",
     "output_type": "stream",
     "text": [
      "Enter question :  what is ai\n"
     ]
    },
    {
     "name": "stdout",
     "output_type": "stream",
     "text": [
      " artificial intelligence is the branch of engineering and science devoted to constructing machines that think end\n"
     ]
    },
    {
     "name": "stdin",
     "output_type": "stream",
     "text": [
      "Enter question :  yes\n"
     ]
    },
    {
     "name": "stdout",
     "output_type": "stream",
     "text": [
      " hal misses sal end\n"
     ]
    },
    {
     "name": "stdin",
     "output_type": "stream",
     "text": [
      "Enter question :  bad\n"
     ]
    },
    {
     "name": "stdout",
     "output_type": "stream",
     "text": [
      " hello end\n"
     ]
    },
    {
     "name": "stdin",
     "output_type": "stream",
     "text": [
      "Enter question :  hello\n"
     ]
    },
    {
     "name": "stdout",
     "output_type": "stream",
     "text": [
      " hi end\n"
     ]
    }
   ],
   "source": [
    "enc_model , dec_model = make_inference_models()\n",
    "\n",
    "for _ in range(10):\n",
    "    states_values = enc_model.predict( str_to_tokens( input( 'Enter question : ' ) ) )\n",
    "    empty_target_seq = np.zeros( ( 1 , 1 ) )\n",
    "    empty_target_seq[0, 0] = tokenizer.word_index['start']\n",
    "    stop_condition = False\n",
    "    decoded_translation = ''\n",
    "    while not stop_condition :\n",
    "        dec_outputs , h , c = dec_model.predict([ empty_target_seq ] + states_values )\n",
    "        sampled_word_index = np.argmax( dec_outputs[0, -1, :] )\n",
    "        sampled_word = None\n",
    "        for word , index in tokenizer.word_index.items() :\n",
    "            if sampled_word_index == index :\n",
    "                decoded_translation += ' {}'.format( word )\n",
    "                sampled_word = word\n",
    "        \n",
    "        if sampled_word == 'end' or len(decoded_translation.split()) > maxlen_answers:\n",
    "            stop_condition = True\n",
    "            \n",
    "        empty_target_seq = np.zeros( ( 1 , 1 ) )  \n",
    "        empty_target_seq[ 0 , 0 ] = sampled_word_index\n",
    "        states_values = [ h , c ] \n",
    "\n",
    "    print( decoded_translation )\n"
   ]
  },
  {
   "cell_type": "code",
   "execution_count": 27,
   "metadata": {},
   "outputs": [
    {
     "name": "stdout",
     "output_type": "stream",
     "text": [
      "Hello. mY boiE!\n",
      "Hello . mY boiE !\n"
     ]
    }
   ],
   "source": [
    "# print(tokenizer.word_index)\n",
    "# print(questions[0:2])\n",
    "# print(answers[2])\n",
    "# print(tokenized_answers[0])\n",
    "# print(str_to_tokens(\"neural\"))\n",
    "# print(len(questions))\n",
    "# print(len(answers))\n",
    "\n",
    "regex = '(?<=[^ ])(?=[.,!?()])|(?<=[.,!?()])(?=[^ ])'\n",
    "s = 'Hello. mY boiE!'\n",
    "print(s)\n",
    "print(re.sub(regex, r' ', s))"
   ]
  },
  {
   "cell_type": "code",
   "execution_count": 29,
   "metadata": {},
   "outputs": [
    {
     "name": "stdout",
     "output_type": "stream",
     "text": [
      "(1912, 200)\n"
     ]
    }
   ],
   "source": [
    "embedding_matrix = np.load('./data/embedding_matrix.npy')\n",
    "print(embedding_matrix.shape)"
   ]
  }
 ],
 "metadata": {
  "kernelspec": {
   "display_name": "Python 3",
   "language": "python",
   "name": "python3"
  },
  "language_info": {
   "codemirror_mode": {
    "name": "ipython",
    "version": 3
   },
   "file_extension": ".py",
   "mimetype": "text/x-python",
   "name": "python",
   "nbconvert_exporter": "python",
   "pygments_lexer": "ipython3",
   "version": "3.6.9"
  }
 },
 "nbformat": 4,
 "nbformat_minor": 4
}
