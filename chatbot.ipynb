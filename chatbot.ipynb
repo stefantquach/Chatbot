{
 "cells": [
  {
   "cell_type": "code",
   "execution_count": 3,
   "metadata": {},
   "outputs": [],
   "source": [
    "import numpy as np\n",
    "import tensorflow as tf\n",
    "import pickle\n",
    "from tensorflow.keras import layers , activations , models\n",
    "import requests, zipfile, io\n",
    "from tensorflow.keras import preprocessing , utils\n",
    "import os\n",
    "import yaml"
   ]
  },
  {
   "cell_type": "code",
   "execution_count": 4,
   "metadata": {},
   "outputs": [],
   "source": [
    "r = requests.get( 'https://github.com/shubham0204/Dataset_Archives/blob/master/chatbot_nlp.zip?raw=true' ) \n",
    "z = zipfile.ZipFile(io.BytesIO(r.content))\n",
    "z.extractall()"
   ]
  },
  {
   "cell_type": "code",
   "execution_count": 5,
   "metadata": {},
   "outputs": [
    {
     "name": "stdout",
     "output_type": "stream",
     "text": [
      "VOCAB SIZE : 1894\n"
     ]
    }
   ],
   "source": [
    "dir_path = 'chatbot_nlp/data'\n",
    "files_list = os.listdir(dir_path + os.sep)\n",
    "\n",
    "questions = list()\n",
    "answers = list()\n",
    "\n",
    "for filepath in files_list:\n",
    "    stream = open( dir_path + os.sep + filepath , 'rb')\n",
    "    docs = yaml.safe_load(stream)\n",
    "    conversations = docs['conversations']\n",
    "    for con in conversations:\n",
    "        if len( con ) > 2 :\n",
    "            questions.append(con[0])\n",
    "            replies = con[ 1 : ]\n",
    "            ans = ''\n",
    "            for rep in replies:\n",
    "                ans += ' ' + rep\n",
    "            answers.append( ans )\n",
    "        elif len( con )> 1:\n",
    "            questions.append(con[0])\n",
    "            answers.append(con[1])\n",
    "\n",
    "answers_with_tags = list()\n",
    "for i in range( len( answers ) ):\n",
    "    if type( answers[i] ) == str:\n",
    "        answers_with_tags.append( answers[i] )\n",
    "    else:\n",
    "        questions.pop( i )\n",
    "\n",
    "answers = list()\n",
    "for i in range( len( answers_with_tags ) ) :\n",
    "    answers.append( '<START> ' + answers_with_tags[i] + ' <END>' )\n",
    "\n",
    "tokenizer = preprocessing.text.Tokenizer()\n",
    "tokenizer.fit_on_texts( questions + answers )\n",
    "VOCAB_SIZE = len( tokenizer.word_index )+1\n",
    "print( 'VOCAB SIZE : {}'.format( VOCAB_SIZE ))\n"
   ]
  },
  {
   "cell_type": "code",
   "execution_count": 8,
   "metadata": {},
   "outputs": [
    {
     "name": "stdout",
     "output_type": "stream",
     "text": [
      "(564, 22) 22\n",
      "(564, 74) 74\n",
      "(564, 74, 1894)\n"
     ]
    }
   ],
   "source": [
    "# encoder_input_data\n",
    "tokenized_questions = tokenizer.texts_to_sequences( questions )\n",
    "maxlen_questions = max( [ len(x) for x in tokenized_questions ] )\n",
    "padded_questions = preprocessing.sequence.pad_sequences( tokenized_questions , maxlen=maxlen_questions , padding='post' )\n",
    "encoder_input_data = np.array( padded_questions )\n",
    "print( encoder_input_data.shape , maxlen_questions )\n",
    "\n",
    "# decoder_input_data\n",
    "tokenized_answers = tokenizer.texts_to_sequences( answers )\n",
    "maxlen_answers = max( [ len(x) for x in tokenized_answers ] )\n",
    "padded_answers = preprocessing.sequence.pad_sequences( tokenized_answers , maxlen=maxlen_answers , padding='post' )\n",
    "decoder_input_data = np.array( padded_answers )\n",
    "print( decoder_input_data.shape , maxlen_answers )\n",
    "\n",
    "# decoder_output_data\n",
    "tokenized_answers = tokenizer.texts_to_sequences( answers )\n",
    "for i in range(len(tokenized_answers)) :\n",
    "    tokenized_answers[i] = tokenized_answers[i][1:]\n",
    "padded_answers = preprocessing.sequence.pad_sequences( tokenized_answers , maxlen=maxlen_answers , padding='post' )\n",
    "onehot_answers = utils.to_categorical( padded_answers , VOCAB_SIZE )\n",
    "decoder_output_data = np.array( onehot_answers )\n",
    "print( decoder_output_data.shape )\n",
    "\n",
    "# Saving all the arrays to storage\n",
    "np.save( './data/enc_in_data.npy' , encoder_input_data )\n",
    "np.save( './data/dec_in_data.npy' , decoder_input_data )\n",
    "np.save( './data/dec_tar_data.npy' , decoder_output_data )"
   ]
  },
  {
   "cell_type": "code",
   "execution_count": 9,
   "metadata": {},
   "outputs": [
    {
     "name": "stdout",
     "output_type": "stream",
     "text": [
      "Model: \"model\"\n",
      "__________________________________________________________________________________________________\n",
      "Layer (type)                    Output Shape         Param #     Connected to                     \n",
      "==================================================================================================\n",
      "input_1 (InputLayer)            [(None, None)]       0                                            \n",
      "__________________________________________________________________________________________________\n",
      "input_2 (InputLayer)            [(None, None)]       0                                            \n",
      "__________________________________________________________________________________________________\n",
      "embedding (Embedding)           (None, None, 200)    378800      input_1[0][0]                    \n",
      "__________________________________________________________________________________________________\n",
      "embedding_1 (Embedding)         (None, None, 200)    378800      input_2[0][0]                    \n",
      "__________________________________________________________________________________________________\n",
      "lstm (LSTM)                     [(None, 200), (None, 320800      embedding[0][0]                  \n",
      "__________________________________________________________________________________________________\n",
      "lstm_1 (LSTM)                   [(None, None, 200),  320800      embedding_1[0][0]                \n",
      "                                                                 lstm[0][1]                       \n",
      "                                                                 lstm[0][2]                       \n",
      "__________________________________________________________________________________________________\n",
      "dense (Dense)                   (None, None, 1894)   380694      lstm_1[0][0]                     \n",
      "==================================================================================================\n",
      "Total params: 1,779,894\n",
      "Trainable params: 1,779,894\n",
      "Non-trainable params: 0\n",
      "__________________________________________________________________________________________________\n"
     ]
    }
   ],
   "source": [
    "# Training Model\n",
    "\n",
    "encoder_inputs = tf.keras.layers.Input(shape=( None , ))\n",
    "encoder_embedding = tf.keras.layers.Embedding( VOCAB_SIZE, 200 , mask_zero=True ) (encoder_inputs)\n",
    "encoder_outputs , state_h , state_c = tf.keras.layers.LSTM( 200 , return_state=True )( encoder_embedding )\n",
    "encoder_states = [ state_h , state_c ]\n",
    "\n",
    "decoder_inputs = tf.keras.layers.Input(shape=( None ,  ))\n",
    "decoder_embedding = tf.keras.layers.Embedding( VOCAB_SIZE, 200 , mask_zero=True) (decoder_inputs)\n",
    "decoder_lstm = tf.keras.layers.LSTM( 200 , return_state=True , return_sequences=True )\n",
    "decoder_outputs , _ , _ = decoder_lstm ( decoder_embedding , initial_state=encoder_states )\n",
    "decoder_dense = tf.keras.layers.Dense( VOCAB_SIZE , activation=tf.keras.activations.softmax ) \n",
    "output = decoder_dense ( decoder_outputs )\n",
    "\n",
    "model = tf.keras.models.Model([encoder_inputs, decoder_inputs], output )\n",
    "model.compile(optimizer=tf.keras.optimizers.RMSprop(), loss='categorical_crossentropy')\n",
    "\n",
    "model.summary()"
   ]
  },
  {
   "cell_type": "code",
   "execution_count": 10,
   "metadata": {},
   "outputs": [
    {
     "name": "stdout",
     "output_type": "stream",
     "text": [
      "Train on 564 samples\n",
      "Epoch 1/75\n",
      "564/564 [==============================] - 12s 22ms/sample - loss: 1.2920\n",
      "Epoch 2/75\n",
      "564/564 [==============================] - 1s 1ms/sample - loss: 1.1169\n",
      "Epoch 3/75\n",
      "564/564 [==============================] - 1s 987us/sample - loss: 1.0974\n",
      "Epoch 4/75\n",
      "564/564 [==============================] - 1s 992us/sample - loss: 1.0800\n",
      "Epoch 5/75\n",
      "564/564 [==============================] - 1s 1ms/sample - loss: 1.0609\n",
      "Epoch 6/75\n",
      "564/564 [==============================] - 1s 976us/sample - loss: 1.0439\n",
      "Epoch 7/75\n",
      "564/564 [==============================] - 1s 976us/sample - loss: 1.0291\n",
      "Epoch 8/75\n",
      "564/564 [==============================] - 1s 1ms/sample - loss: 1.0159\n",
      "Epoch 9/75\n",
      "564/564 [==============================] - 1s 987us/sample - loss: 1.0028\n",
      "Epoch 10/75\n",
      "564/564 [==============================] - 1s 1ms/sample - loss: 0.9903\n",
      "Epoch 11/75\n",
      "564/564 [==============================] - 1s 958us/sample - loss: 0.9763\n",
      "Epoch 12/75\n",
      "564/564 [==============================] - 1s 1ms/sample - loss: 0.9621\n",
      "Epoch 13/75\n",
      "564/564 [==============================] - 1s 1ms/sample - loss: 0.9473\n",
      "Epoch 14/75\n",
      "564/564 [==============================] - 1s 1ms/sample - loss: 0.9328\n",
      "Epoch 15/75\n",
      "564/564 [==============================] - 1s 974us/sample - loss: 0.9181\n",
      "Epoch 16/75\n",
      "564/564 [==============================] - 1s 966us/sample - loss: 0.9034\n",
      "Epoch 17/75\n",
      "564/564 [==============================] - 1s 973us/sample - loss: 0.8895\n",
      "Epoch 18/75\n",
      "564/564 [==============================] - 1s 978us/sample - loss: 0.8765\n",
      "Epoch 19/75\n",
      "564/564 [==============================] - 1s 980us/sample - loss: 0.8620\n",
      "Epoch 20/75\n",
      "564/564 [==============================] - 1s 974us/sample - loss: 0.8493\n",
      "Epoch 21/75\n",
      "564/564 [==============================] - 1s 969us/sample - loss: 0.8366\n",
      "Epoch 22/75\n",
      "564/564 [==============================] - 1s 985us/sample - loss: 0.8244\n",
      "Epoch 23/75\n",
      "564/564 [==============================] - 1s 987us/sample - loss: 0.8109\n",
      "Epoch 24/75\n",
      "564/564 [==============================] - 1s 966us/sample - loss: 0.7997\n",
      "Epoch 25/75\n",
      "564/564 [==============================] - 1s 973us/sample - loss: 0.7873\n",
      "Epoch 26/75\n",
      "564/564 [==============================] - 1s 976us/sample - loss: 0.7757\n",
      "Epoch 27/75\n",
      "564/564 [==============================] - 1s 965us/sample - loss: 0.7646\n",
      "Epoch 28/75\n",
      "564/564 [==============================] - 1s 1ms/sample - loss: 0.7523\n",
      "Epoch 29/75\n",
      "564/564 [==============================] - 1s 1ms/sample - loss: 0.7422\n",
      "Epoch 30/75\n",
      "564/564 [==============================] - 1s 987us/sample - loss: 0.7312\n",
      "Epoch 31/75\n",
      "564/564 [==============================] - 1s 1ms/sample - loss: 0.7202\n",
      "Epoch 32/75\n",
      "564/564 [==============================] - 1s 960us/sample - loss: 0.7092\n",
      "Epoch 33/75\n",
      "564/564 [==============================] - 1s 955us/sample - loss: 0.6988\n",
      "Epoch 34/75\n",
      "564/564 [==============================] - 1s 957us/sample - loss: 0.6885\n",
      "Epoch 35/75\n",
      "564/564 [==============================] - 1s 957us/sample - loss: 0.6785\n",
      "Epoch 36/75\n",
      "564/564 [==============================] - 1s 958us/sample - loss: 0.6693\n",
      "Epoch 37/75\n",
      "564/564 [==============================] - 1s 969us/sample - loss: 0.6580\n",
      "Epoch 38/75\n",
      "564/564 [==============================] - 1s 976us/sample - loss: 0.6488\n",
      "Epoch 39/75\n",
      "564/564 [==============================] - 1s 981us/sample - loss: 0.6392\n",
      "Epoch 40/75\n",
      "564/564 [==============================] - 1s 1ms/sample - loss: 0.6282\n",
      "Epoch 41/75\n",
      "564/564 [==============================] - 1s 960us/sample - loss: 0.6190\n",
      "Epoch 42/75\n",
      "564/564 [==============================] - 1s 971us/sample - loss: 0.6097\n",
      "Epoch 43/75\n",
      "564/564 [==============================] - 1s 966us/sample - loss: 0.5991\n",
      "Epoch 44/75\n",
      "564/564 [==============================] - 1s 966us/sample - loss: 0.5915\n",
      "Epoch 45/75\n",
      "564/564 [==============================] - 1s 973us/sample - loss: 0.5809\n",
      "Epoch 46/75\n",
      "564/564 [==============================] - 1s 971us/sample - loss: 0.5707\n",
      "Epoch 47/75\n",
      "564/564 [==============================] - 1s 985us/sample - loss: 0.5635\n",
      "Epoch 48/75\n",
      "564/564 [==============================] - 1s 976us/sample - loss: 0.5536\n",
      "Epoch 49/75\n",
      "564/564 [==============================] - 1s 1ms/sample - loss: 0.5439\n",
      "Epoch 50/75\n",
      "564/564 [==============================] - 1s 967us/sample - loss: 0.5354\n",
      "Epoch 51/75\n",
      "564/564 [==============================] - 1s 964us/sample - loss: 0.5258\n",
      "Epoch 52/75\n",
      "564/564 [==============================] - 1s 950us/sample - loss: 0.5161\n",
      "Epoch 53/75\n",
      "564/564 [==============================] - 1s 950us/sample - loss: 0.5089\n",
      "Epoch 54/75\n",
      "564/564 [==============================] - 1s 958us/sample - loss: 0.4994\n",
      "Epoch 55/75\n",
      "564/564 [==============================] - 1s 960us/sample - loss: 0.4910\n",
      "Epoch 56/75\n",
      "564/564 [==============================] - 1s 967us/sample - loss: 0.4820\n",
      "Epoch 57/75\n",
      "564/564 [==============================] - 1s 978us/sample - loss: 0.4726\n",
      "Epoch 58/75\n",
      "564/564 [==============================] - 1s 988us/sample - loss: 0.4648\n",
      "Epoch 59/75\n",
      "564/564 [==============================] - 1s 987us/sample - loss: 0.4565\n",
      "Epoch 60/75\n",
      "564/564 [==============================] - 1s 962us/sample - loss: 0.4480\n",
      "Epoch 61/75\n",
      "564/564 [==============================] - 1s 974us/sample - loss: 0.4394\n",
      "Epoch 62/75\n",
      "564/564 [==============================] - 1s 971us/sample - loss: 0.4332\n",
      "Epoch 63/75\n",
      "564/564 [==============================] - 1s 965us/sample - loss: 0.4223\n",
      "Epoch 64/75\n",
      "564/564 [==============================] - 1s 971us/sample - loss: 0.4157\n",
      "Epoch 65/75\n",
      "564/564 [==============================] - 1s 1ms/sample - loss: 0.4064\n",
      "Epoch 66/75\n",
      "564/564 [==============================] - 1s 1ms/sample - loss: 0.3990\n",
      "Epoch 67/75\n",
      "564/564 [==============================] - 1s 1ms/sample - loss: 0.3911\n",
      "Epoch 68/75\n",
      "564/564 [==============================] - 1s 967us/sample - loss: 0.3842\n",
      "Epoch 69/75\n",
      "564/564 [==============================] - 1s 971us/sample - loss: 0.3746\n",
      "Epoch 70/75\n",
      "564/564 [==============================] - 1s 973us/sample - loss: 0.3683\n",
      "Epoch 71/75\n",
      "564/564 [==============================] - 1s 971us/sample - loss: 0.3611\n",
      "Epoch 72/75\n",
      "564/564 [==============================] - 1s 971us/sample - loss: 0.3550\n",
      "Epoch 73/75\n",
      "564/564 [==============================] - 1s 1ms/sample - loss: 0.3457\n",
      "Epoch 74/75\n",
      "564/564 [==============================] - 1s 1ms/sample - loss: 0.3394\n",
      "Epoch 75/75\n",
      "564/564 [==============================] - 1s 974us/sample - loss: 0.3326\n"
     ]
    }
   ],
   "source": [
    "model.fit([encoder_input_data , decoder_input_data], decoder_output_data, batch_size=50, epochs=75 ) \n",
    "model.save( 'model.h5' ) "
   ]
  },
  {
   "cell_type": "code",
   "execution_count": 11,
   "metadata": {},
   "outputs": [],
   "source": [
    "def make_inference_models():\n",
    "    \n",
    "    encoder_model = tf.keras.models.Model(encoder_inputs, encoder_states)\n",
    "    \n",
    "    decoder_state_input_h = tf.keras.layers.Input(shape=( 200 ,))\n",
    "    decoder_state_input_c = tf.keras.layers.Input(shape=( 200 ,))\n",
    "    \n",
    "    decoder_states_inputs = [decoder_state_input_h, decoder_state_input_c]\n",
    "    \n",
    "    decoder_outputs, state_h, state_c = decoder_lstm(\n",
    "        decoder_embedding , initial_state=decoder_states_inputs)\n",
    "    decoder_states = [state_h, state_c]\n",
    "    decoder_outputs = decoder_dense(decoder_outputs)\n",
    "    decoder_model = tf.keras.models.Model(\n",
    "        [decoder_inputs] + decoder_states_inputs,\n",
    "        [decoder_outputs] + decoder_states)\n",
    "    \n",
    "    return encoder_model , decoder_model"
   ]
  },
  {
   "cell_type": "code",
   "execution_count": 12,
   "metadata": {},
   "outputs": [],
   "source": [
    "def str_to_tokens( sentence : str ):\n",
    "    words = sentence.lower().split()\n",
    "    tokens_list = list()\n",
    "    for word in words:\n",
    "        tokens_list.append( tokenizer.word_index[ word ] ) \n",
    "    return preprocessing.sequence.pad_sequences( [tokens_list] , maxlen=maxlen_questions , padding='post')"
   ]
  },
  {
   "cell_type": "code",
   "execution_count": 13,
   "metadata": {},
   "outputs": [
    {
     "name": "stdin",
     "output_type": "stream",
     "text": [
      "Enter question :  hello\n"
     ]
    },
    {
     "name": "stdout",
     "output_type": "stream",
     "text": [
      " greetings end\n"
     ]
    },
    {
     "name": "stdin",
     "output_type": "stream",
     "text": [
      "Enter question :  how are you\n"
     ]
    },
    {
     "name": "stdout",
     "output_type": "stream",
     "text": [
      " i am not i am not yet as hard end\n"
     ]
    },
    {
     "name": "stdin",
     "output_type": "stream",
     "text": [
      "Enter question :  who are you\n"
     ]
    },
    {
     "name": "stdout",
     "output_type": "stream",
     "text": [
      " i am not into the internet end\n"
     ]
    },
    {
     "name": "stdin",
     "output_type": "stream",
     "text": [
      "Enter question :  who are you?\n"
     ]
    },
    {
     "ename": "KeyError",
     "evalue": "'you?'",
     "output_type": "error",
     "traceback": [
      "\u001b[1;31m---------------------------------------------------------------------------\u001b[0m",
      "\u001b[1;31mKeyError\u001b[0m                                  Traceback (most recent call last)",
      "\u001b[1;32m<ipython-input-13-a3576c66748e>\u001b[0m in \u001b[0;36m<module>\u001b[1;34m\u001b[0m\n\u001b[0;32m      2\u001b[0m \u001b[1;33m\u001b[0m\u001b[0m\n\u001b[0;32m      3\u001b[0m \u001b[1;32mfor\u001b[0m \u001b[0m_\u001b[0m \u001b[1;32min\u001b[0m \u001b[0mrange\u001b[0m\u001b[1;33m(\u001b[0m\u001b[1;36m10\u001b[0m\u001b[1;33m)\u001b[0m\u001b[1;33m:\u001b[0m\u001b[1;33m\u001b[0m\u001b[1;33m\u001b[0m\u001b[0m\n\u001b[1;32m----> 4\u001b[1;33m     \u001b[0mstates_values\u001b[0m \u001b[1;33m=\u001b[0m \u001b[0menc_model\u001b[0m\u001b[1;33m.\u001b[0m\u001b[0mpredict\u001b[0m\u001b[1;33m(\u001b[0m \u001b[0mstr_to_tokens\u001b[0m\u001b[1;33m(\u001b[0m \u001b[0minput\u001b[0m\u001b[1;33m(\u001b[0m \u001b[1;34m'Enter question : '\u001b[0m \u001b[1;33m)\u001b[0m \u001b[1;33m)\u001b[0m \u001b[1;33m)\u001b[0m\u001b[1;33m\u001b[0m\u001b[1;33m\u001b[0m\u001b[0m\n\u001b[0m\u001b[0;32m      5\u001b[0m     \u001b[0mempty_target_seq\u001b[0m \u001b[1;33m=\u001b[0m \u001b[0mnp\u001b[0m\u001b[1;33m.\u001b[0m\u001b[0mzeros\u001b[0m\u001b[1;33m(\u001b[0m \u001b[1;33m(\u001b[0m \u001b[1;36m1\u001b[0m \u001b[1;33m,\u001b[0m \u001b[1;36m1\u001b[0m \u001b[1;33m)\u001b[0m \u001b[1;33m)\u001b[0m\u001b[1;33m\u001b[0m\u001b[1;33m\u001b[0m\u001b[0m\n\u001b[0;32m      6\u001b[0m     \u001b[0mempty_target_seq\u001b[0m\u001b[1;33m[\u001b[0m\u001b[1;36m0\u001b[0m\u001b[1;33m,\u001b[0m \u001b[1;36m0\u001b[0m\u001b[1;33m]\u001b[0m \u001b[1;33m=\u001b[0m \u001b[0mtokenizer\u001b[0m\u001b[1;33m.\u001b[0m\u001b[0mword_index\u001b[0m\u001b[1;33m[\u001b[0m\u001b[1;34m'start'\u001b[0m\u001b[1;33m]\u001b[0m\u001b[1;33m\u001b[0m\u001b[1;33m\u001b[0m\u001b[0m\n",
      "\u001b[1;32m<ipython-input-12-1825298c5d8b>\u001b[0m in \u001b[0;36mstr_to_tokens\u001b[1;34m(sentence)\u001b[0m\n\u001b[0;32m      3\u001b[0m     \u001b[0mtokens_list\u001b[0m \u001b[1;33m=\u001b[0m \u001b[0mlist\u001b[0m\u001b[1;33m(\u001b[0m\u001b[1;33m)\u001b[0m\u001b[1;33m\u001b[0m\u001b[1;33m\u001b[0m\u001b[0m\n\u001b[0;32m      4\u001b[0m     \u001b[1;32mfor\u001b[0m \u001b[0mword\u001b[0m \u001b[1;32min\u001b[0m \u001b[0mwords\u001b[0m\u001b[1;33m:\u001b[0m\u001b[1;33m\u001b[0m\u001b[1;33m\u001b[0m\u001b[0m\n\u001b[1;32m----> 5\u001b[1;33m         \u001b[0mtokens_list\u001b[0m\u001b[1;33m.\u001b[0m\u001b[0mappend\u001b[0m\u001b[1;33m(\u001b[0m \u001b[0mtokenizer\u001b[0m\u001b[1;33m.\u001b[0m\u001b[0mword_index\u001b[0m\u001b[1;33m[\u001b[0m \u001b[0mword\u001b[0m \u001b[1;33m]\u001b[0m \u001b[1;33m)\u001b[0m\u001b[1;33m\u001b[0m\u001b[1;33m\u001b[0m\u001b[0m\n\u001b[0m\u001b[0;32m      6\u001b[0m     \u001b[1;32mreturn\u001b[0m \u001b[0mpreprocessing\u001b[0m\u001b[1;33m.\u001b[0m\u001b[0msequence\u001b[0m\u001b[1;33m.\u001b[0m\u001b[0mpad_sequences\u001b[0m\u001b[1;33m(\u001b[0m \u001b[1;33m[\u001b[0m\u001b[0mtokens_list\u001b[0m\u001b[1;33m]\u001b[0m \u001b[1;33m,\u001b[0m \u001b[0mmaxlen\u001b[0m\u001b[1;33m=\u001b[0m\u001b[0mmaxlen_questions\u001b[0m \u001b[1;33m,\u001b[0m \u001b[0mpadding\u001b[0m\u001b[1;33m=\u001b[0m\u001b[1;34m'post'\u001b[0m\u001b[1;33m)\u001b[0m\u001b[1;33m\u001b[0m\u001b[1;33m\u001b[0m\u001b[0m\n",
      "\u001b[1;31mKeyError\u001b[0m: 'you?'"
     ]
    }
   ],
   "source": [
    "enc_model , dec_model = make_inference_models()\n",
    "\n",
    "for _ in range(10):\n",
    "    states_values = enc_model.predict( str_to_tokens( input( 'Enter question : ' ) ) )\n",
    "    empty_target_seq = np.zeros( ( 1 , 1 ) )\n",
    "    empty_target_seq[0, 0] = tokenizer.word_index['start']\n",
    "    stop_condition = False\n",
    "    decoded_translation = ''\n",
    "    while not stop_condition :\n",
    "        dec_outputs , h , c = dec_model.predict([ empty_target_seq ] + states_values )\n",
    "        sampled_word_index = np.argmax( dec_outputs[0, -1, :] )\n",
    "        sampled_word = None\n",
    "        for word , index in tokenizer.word_index.items() :\n",
    "            if sampled_word_index == index :\n",
    "                decoded_translation += ' {}'.format( word )\n",
    "                sampled_word = word\n",
    "        \n",
    "        if sampled_word == 'end' or len(decoded_translation.split()) > maxlen_answers:\n",
    "            stop_condition = True\n",
    "            \n",
    "        empty_target_seq = np.zeros( ( 1 , 1 ) )  \n",
    "        empty_target_seq[ 0 , 0 ] = sampled_word_index\n",
    "        states_values = [ h , c ] \n",
    "\n",
    "    print( decoded_translation )\n"
   ]
  },
  {
   "cell_type": "code",
   "execution_count": null,
   "metadata": {},
   "outputs": [],
   "source": []
  }
 ],
 "metadata": {
  "kernelspec": {
   "display_name": "Python 3",
   "language": "python",
   "name": "python3"
  },
  "language_info": {
   "codemirror_mode": {
    "name": "ipython",
    "version": 3
   },
   "file_extension": ".py",
   "mimetype": "text/x-python",
   "name": "python",
   "nbconvert_exporter": "python",
   "pygments_lexer": "ipython3",
   "version": "3.6.9"
  }
 },
 "nbformat": 4,
 "nbformat_minor": 4
}
